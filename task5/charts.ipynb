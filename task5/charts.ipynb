{
 "cells": [
  {
   "cell_type": "code",
   "execution_count": 2,
   "id": "538f817b",
   "metadata": {},
   "outputs": [
    {
     "data": {
      "text/html": [
       "<div>\n",
       "<style scoped>\n",
       "    .dataframe tbody tr th:only-of-type {\n",
       "        vertical-align: middle;\n",
       "    }\n",
       "\n",
       "    .dataframe tbody tr th {\n",
       "        vertical-align: top;\n",
       "    }\n",
       "\n",
       "    .dataframe thead th {\n",
       "        text-align: right;\n",
       "    }\n",
       "</style>\n",
       "<table border=\"1\" class=\"dataframe\">\n",
       "  <thead>\n",
       "    <tr style=\"text-align: right;\">\n",
       "      <th></th>\n",
       "      <th>Experience</th>\n",
       "      <th>Salary</th>\n",
       "    </tr>\n",
       "  </thead>\n",
       "  <tbody>\n",
       "    <tr>\n",
       "      <th>0</th>\n",
       "      <td>1.1</td>\n",
       "      <td>39343</td>\n",
       "    </tr>\n",
       "    <tr>\n",
       "      <th>1</th>\n",
       "      <td>1.3</td>\n",
       "      <td>46205</td>\n",
       "    </tr>\n",
       "    <tr>\n",
       "      <th>2</th>\n",
       "      <td>1.5</td>\n",
       "      <td>37731</td>\n",
       "    </tr>\n",
       "    <tr>\n",
       "      <th>3</th>\n",
       "      <td>2.0</td>\n",
       "      <td>43525</td>\n",
       "    </tr>\n",
       "    <tr>\n",
       "      <th>4</th>\n",
       "      <td>2.2</td>\n",
       "      <td>39891</td>\n",
       "    </tr>\n",
       "  </tbody>\n",
       "</table>\n",
       "</div>"
      ],
      "text/plain": [
       "   Experience  Salary\n",
       "0         1.1   39343\n",
       "1         1.3   46205\n",
       "2         1.5   37731\n",
       "3         2.0   43525\n",
       "4         2.2   39891"
      ]
     },
     "execution_count": 2,
     "metadata": {},
     "output_type": "execute_result"
    }
   ],
   "source": [
    "import pandas as pd\n",
    "\n",
    "# Replace with your file name\n",
    "df = pd.read_csv(\"salary_data.csv\")\n",
    "df.head()  # Preview first 5 rows\n"
   ]
  },
  {
   "cell_type": "code",
   "execution_count": 3,
   "id": "e257c8ad",
   "metadata": {},
   "outputs": [],
   "source": [
    "df.isnull().sum()     # Count NaN values\n",
    "df = df.dropna()      # Drop rows with NaN (or fill them)\n"
   ]
  },
  {
   "cell_type": "code",
   "execution_count": 4,
   "id": "0f2ee677",
   "metadata": {},
   "outputs": [
    {
     "name": "stdout",
     "output_type": "stream",
     "text": [
      "Salary\n",
      "37731      1.5\n",
      "39343      1.1\n",
      "39891      2.2\n",
      "43525      2.0\n",
      "46205      1.3\n",
      "54445      3.2\n",
      "55794      4.0\n",
      "56642      2.9\n",
      "56957      4.0\n",
      "57081      4.1\n",
      "57189      3.7\n",
      "60150      3.0\n",
      "61111      4.5\n",
      "63218      3.9\n",
      "64445      3.2\n",
      "66029      5.1\n",
      "67938      4.9\n",
      "81363      5.9\n",
      "83088      5.3\n",
      "91738      6.8\n",
      "93940      6.0\n",
      "98273      7.1\n",
      "99000      7.9\n",
      "105582     9.0\n",
      "109431     8.7\n",
      "112635     9.6\n",
      "113812     8.2\n",
      "116969     9.5\n",
      "121872    10.5\n",
      "122391    10.3\n",
      "Name: Experience, dtype: float64\n"
     ]
    }
   ],
   "source": [
    "salary_by_Experince = df.groupby('Salary')['Experience'].sum()\n",
    "print(salary_by_Experince)\n"
   ]
  },
  {
   "cell_type": "code",
   "execution_count": 5,
   "id": "9d686bb6",
   "metadata": {},
   "outputs": [
    {
     "data": {
      "image/png": "[encoded data removed]",
      "text/plain": [
       "<Figure size 640x480 with 1 Axes>"
      ]
     },
     "metadata": {},
     "output_type": "display_data"
    },
    {
     "data": {
      "text/plain": [
       "<Figure size 640x480 with 0 Axes>"
      ]
     },
     "metadata": {},
     "output_type": "display_data"
    }
   ],
   "source": [
    "import matplotlib.pyplot as plt\n",
    "\n",
    "# Line chart\n",
    "x=df['Experience']\n",
    "y=df['Salary']\n",
    "plt.title('Salary vs Experience')\n",
    "plt.xlabel(\"Salary\")\n",
    "plt.ylabel('Experience')\n",
    "plt.plot(x,y)\n",
    "plt.show()\n",
    "plt.savefig(\"salary_by_experience.png\")\n"
   ]
  },
  {
   "cell_type": "code",
   "execution_count": null,
   "id": "1252aed8",
   "metadata": {},
   "outputs": [],
   "source": []
  }
 ],
 "metadata": {
  "kernelspec": {
   "display_name": "Python 3",
   "language": "python",
   "name": "python3"
  },
  "language_info": {
   "codemirror_mode": {
    "name": "ipython",
    "version": 3
   },
   "file_extension": ".py",
   "mimetype": "text/x-python",
   "name": "python",
   "nbconvert_exporter": "python",
   "pygments_lexer": "ipython3",
   "version": "3.13.0"
  }
 },
 "nbformat": 4,
 "nbformat_minor": 5
}
